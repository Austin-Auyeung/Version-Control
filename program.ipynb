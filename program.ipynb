{
 "cells": [
  {
   "cell_type": "code",
   "execution_count": 2,
   "id": "14224bc1-3a5d-42a1-98aa-ddd247017bf9",
   "metadata": {},
   "outputs": [
    {
     "name": "stdin",
     "output_type": "stream",
     "text": [
      "Input any name. It doesn't have to be your name.\n",
      " Astor\n",
      "Input any breakfast item.\n",
      " bacon\n"
     ]
    },
    {
     "name": "stdout",
     "output_type": "stream",
     "text": [
      "Astor ate bacon for breakfast\n"
     ]
    }
   ],
   "source": [
    "name = input(\"Input any name. It doesn't have to be your name.\\n\")\n",
    "food = input(\"Input any breakfast item.\\n\")\n",
    "print(name, \"ate\", food, \"for breakfast\")"
   ]
  },
  {
   "cell_type": "code",
   "execution_count": null,
   "id": "ec86cb06-3a72-48e4-bf00-bbe1ed1e2e0e",
   "metadata": {},
   "outputs": [],
   "source": []
  }
 ],
 "metadata": {
  "kernelspec": {
   "display_name": "Python 3 (ipykernel)",
   "language": "python",
   "name": "python3"
  },
  "language_info": {
   "codemirror_mode": {
    "name": "ipython",
    "version": 3
   },
   "file_extension": ".py",
   "mimetype": "text/x-python",
   "name": "python",
   "nbconvert_exporter": "python",
   "pygments_lexer": "ipython3",
   "version": "3.11.5"
  }
 },
 "nbformat": 4,
 "nbformat_minor": 5
}
